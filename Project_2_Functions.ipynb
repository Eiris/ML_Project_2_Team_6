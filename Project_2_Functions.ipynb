{
 "cells": [
  {
   "cell_type": "markdown",
   "metadata": {},
   "source": [
    "## Exploration of Data"
   ]
  },
  {
   "cell_type": "code",
   "execution_count": 2,
   "metadata": {},
   "outputs": [
    {
     "name": "stdout",
     "output_type": "stream",
     "text": [
      "(25000, 60)\n",
      "(25000, 5)\n"
     ]
    }
   ],
   "source": [
    "import matplotlib.pyplot as plt\n",
    "import matplotlib.image as mpimg\n",
    "import numpy as np\n",
    "import scipy.io as sio\n",
    "import os\n",
    "\n",
    "# Load image data\n",
    "data_load_1 = sio.loadmat('Proj2FeatVecsSet1.mat')\n",
    "data_load_2 = sio.loadmat('Proj2TargetOutputsSet1.mat')\n",
    "data_set = data_load_1['Proj2FeatVecsSet1']\n",
    "data_target = data_load_2['Proj2TargetOutputsSet1']\n",
    "\n",
    "print(data_set.shape)\n",
    "print(data_target.shape)"
   ]
  },
  {
   "cell_type": "code",
   "execution_count": 17,
   "metadata": {},
   "outputs": [],
   "source": [
    "# Divide my target data into nice 1-D classifier\n",
    "number_labels = []\n",
    "for ars in data_target:\n",
    "    if np.all(ars == [1,-1,-1,-1,-1]):\n",
    "        ars = 1\n",
    "        number_labels.append(ars)\n",
    "    elif np.all(ars == [-1,1,-1,-1,-1]):\n",
    "        ars = 2\n",
    "        number_labels.append(ars)\n",
    "    elif np.all(ars == [-1,-1,1,-1,-1]):\n",
    "        ars = 3\n",
    "        number_labels.append(ars)\n",
    "    elif np.all(ars == [-1,-1,-1,1,-1]):\n",
    "        ars = 4\n",
    "        number_labels.append(ars)\n",
    "    elif np.all(ars == [-1,-1,-1,-1,1]):\n",
    "        ars = 5\n",
    "        number_labels.append(ars)\n",
    "        \n",
    "number_labels = np.asarray(number_labels)"
   ]
  },
  {
   "cell_type": "markdown",
   "metadata": {},
   "source": [
    "## Define how many components we should use and run PCA"
   ]
  },
  {
   "cell_type": "code",
   "execution_count": 4,
   "metadata": {},
   "outputs": [
    {
     "name": "stdout",
     "output_type": "stream",
     "text": [
      "We need about 9 components to retain 95% of the variance\n"
     ]
    },
    {
     "data": {
      "image/png": "[encoded data removed]",
      "text/plain": [
       "<Figure size 432x288 with 1 Axes>"
      ]
     },
     "metadata": {},
     "output_type": "display_data"
    },
    {
     "data": {
      "image/png": "[encoded data removed]",
      "text/plain": [
       "<Figure size 432x288 with 1 Axes>"
      ]
     },
     "metadata": {},
     "output_type": "display_data"
    }
   ],
   "source": [
    "from sklearn.decomposition import PCA\n",
    "pca = PCA().fit(data_set)\n",
    "cum_var = np.cumsum(pca.explained_variance_ratio_)\n",
    "eigenvalues = pca.explained_variance_\n",
    "\n",
    "count = 0\n",
    "for var in cum_var:\n",
    "    count += 1\n",
    "    if var >= 0.95:\n",
    "        n_components = count\n",
    "        answer = \"We need about \"+ str(n_components) + \" components to retain 95% of the variance\"\n",
    "        print(answer)\n",
    "        break\n",
    "        \n",
    "plt.figure(1)\n",
    "plt.plot(cum_var)\n",
    "plt.xlabel('Number of Components')\n",
    "plt.ylabel('Cumulative Explained Variance')\n",
    "plt.figure(2)\n",
    "plt.plot(eigenvalues)\n",
    "plt.xlabel('Number of Components')\n",
    "plt.ylabel('Eigenvalues')\n",
    "plt.show()\n",
    "\n",
    "# Minumum Noise Factor --> Similar to PCA but removes noise from bands"
   ]
  },
  {
   "cell_type": "code",
   "execution_count": 5,
   "metadata": {},
   "outputs": [
    {
     "data": {
      "text/plain": [
       "(25000, 9)"
      ]
     },
     "execution_count": 5,
     "metadata": {},
     "output_type": "execute_result"
    }
   ],
   "source": [
    "from sklearn.decomposition import PCA\n",
    "from skimage.transform import rescale\n",
    "from sklearn.cluster import KMeans\n",
    "import numpy as np\n",
    "import time\n",
    "\n",
    "#Using PCA\n",
    "pca = PCA(n_components=n_components)\n",
    "reduced_data = pca.fit_transform(data_set)\n",
    "reduced_data.shape"
   ]
  },
  {
   "cell_type": "markdown",
   "metadata": {},
   "source": [
    "## Creation of Data Folds - Training and Testing"
   ]
  },
  {
   "cell_type": "code",
   "execution_count": 6,
   "metadata": {},
   "outputs": [],
   "source": [
    "from sklearn.model_selection import train_test_split\n",
    "# #############################################################################\n",
    "# Split into a training set and a test set using a stratified k fold\n",
    "\n",
    "# split into a training and testing set\n",
    "X_train, X_test, y_train, y_test = train_test_split(\n",
    "    reduced_data, number_labels, test_size=0.20, stratify = number_labels)#, random_state=39)"
   ]
  },
  {
   "cell_type": "code",
   "execution_count": 7,
   "metadata": {},
   "outputs": [
    {
     "name": "stdout",
     "output_type": "stream",
     "text": [
      "(20000, 9)\n",
      "(5000, 9)\n",
      "(20000,)\n",
      "(5000,)\n"
     ]
    }
   ],
   "source": [
    "print(X_train.shape)\n",
    "print(X_test.shape)\n",
    "print(y_train.shape)\n",
    "print(y_test.shape)"
   ]
  },
  {
   "cell_type": "code",
   "execution_count": 124,
   "metadata": {},
   "outputs": [],
   "source": [
    "X_train_1 = X_train[:1000]\n",
    "X_train_2 = X_train[5000:9999]\n",
    "X_train_3 = X_train[10000:14999]\n",
    "X_train_4 = X_train[15000:20000]\n",
    "y_train_1 = y_train[:1000]\n",
    "y_train_2 = y_train[5000:9999]\n",
    "y_train_3 = y_train[10000:14999]\n",
    "y_train_4 = y_train[15000:20000]"
   ]
  },
  {
   "cell_type": "markdown",
   "metadata": {},
   "source": [
    "## SVM"
   ]
  },
  {
   "cell_type": "code",
   "execution_count": 94,
   "metadata": {},
   "outputs": [
    {
     "name": "stdout",
     "output_type": "stream",
     "text": [
      "Fitting the classifier to the training set\n",
      "done in 34.062s\n"
     ]
    }
   ],
   "source": [
    "from sklearn.svm import SVC\n",
    "from time import time\n",
    "from sklearn.multiclass import OneVsOneClassifier\n",
    "from sklearn.model_selection import GridSearchCV\n",
    "# #############################################################################\n",
    "# Train a SVM classification model\n",
    "print(\"Fitting the classifier to the training set\")\n",
    "t0 = time()\n",
    "param_grid = {'C': [1e3, 1e4, 1e5],\n",
    "              'gamma': [0.001, 0.01, 0.1] }\n",
    "clf = OneVsOneClassifier(GridSearchCV(SVC(kernel='rbf', class_weight='balanced'), param_grid))\n",
    "# clf = GridSearchCV(SVC(kernel='rbf', class_weight='balanced'), param_grid)\n",
    "# clf = OneVsOneClassifier(SVC(**TrainMyClassifierParameters('SVM')))#, gamma = 1)\n",
    "clf = clf.fit(X_train_1, y_train_1)\n",
    "print(\"done in %0.3fs\" % (time() - t0))\n",
    "# clf.score(X_train, y_train)"
   ]
  },
  {
   "cell_type": "code",
   "execution_count": 39,
   "metadata": {},
   "outputs": [
    {
     "ename": "AttributeError",
     "evalue": "'OneVsOneClassifier' object has no attribute 'best_params_'",
     "output_type": "error",
     "traceback": [
      "\u001b[1;31m---------------------------------------------------------------------------\u001b[0m",
      "\u001b[1;31mAttributeError\u001b[0m                            Traceback (most recent call last)",
      "\u001b[1;32m<ipython-input-39-9772bec5683a>\u001b[0m in \u001b[0;36m<module>\u001b[1;34m()\u001b[0m\n\u001b[1;32m----> 1\u001b[1;33m \u001b[0mclf\u001b[0m\u001b[1;33m.\u001b[0m\u001b[0mbest_params_\u001b[0m\u001b[1;33m\u001b[0m\u001b[0m\n\u001b[0m",
      "\u001b[1;31mAttributeError\u001b[0m: 'OneVsOneClassifier' object has no attribute 'best_params_'"
     ]
    }
   ],
   "source": [
    "clf.best_params_"
   ]
  },
  {
   "cell_type": "code",
   "execution_count": 11,
   "metadata": {},
   "outputs": [
    {
     "name": "stdout",
     "output_type": "stream",
     "text": [
      "Predicting class on the test set\n",
      "done in 0.597s\n",
      "             precision    recall  f1-score   support\n",
      "\n",
      "          1       0.97      0.99      0.98      1000\n",
      "          2       0.92      0.91      0.91      1000\n",
      "          3       0.96      0.96      0.96      1000\n",
      "          4       0.89      0.89      0.89      1000\n",
      "          5       0.94      0.95      0.94      1000\n",
      "\n",
      "avg / total       0.94      0.94      0.94      5000\n",
      "\n",
      "[[986   7   5   0   2]\n",
      " [ 12 908   0  77   3]\n",
      " [ 11   0 960   3  26]\n",
      " [ 10  69   8 886  27]\n",
      " [  2   3  24  24 947]]\n"
     ]
    }
   ],
   "source": [
    "from sklearn.metrics import classification_report\n",
    "from sklearn.metrics import confusion_matrix\n",
    "# #############################################################################\n",
    "# Quantitative evaluation of the model quality on the test set\n",
    "print(\"Predicting class on the test set\")\n",
    "t0 = time()\n",
    "y_pred = clf.predict(X_test)\n",
    "print(\"done in %0.3fs\" % (time() - t0))\n",
    "\n",
    "print(classification_report(y_test, y_pred))\n",
    "print(confusion_matrix(y_test, y_pred))"
   ]
  },
  {
   "cell_type": "markdown",
   "metadata": {},
   "source": [
    "## RVM"
   ]
  },
  {
   "cell_type": "code",
   "execution_count": 12,
   "metadata": {},
   "outputs": [
    {
     "name": "stdout",
     "output_type": "stream",
     "text": [
      "Fitting the classifier to the training set\n",
      "done in 1212.675s\n"
     ]
    }
   ],
   "source": [
    "from time import time\n",
    "from sklearn.multiclass import OneVsOneClassifier\n",
    "# from sklearn.model_selection import GridSearchCV\n",
    "from skrvm import RVC\n",
    "# #############################################################################\n",
    "# Train a RVM classification model\n",
    "print(\"Fitting the classifier to the training set\")\n",
    "t0 = time()\n",
    "param_grid = {'C': [1e3, 1e4, 1e5],\n",
    "              'gamma': [0.001, 0.01, 0.1] }\n",
    "clf = OneVsOneClassifier(GridSearchCV(RVC(kernel='rbf',n_iter=1), param_grid))\n",
    "# clf = OneVsOneClassifier(RVC(kernel='rbf', n_iter=1))\n",
    "clf.fit(X_train_1, y_train_1)\n",
    "print(\"done in %0.3fs\" % (time() - t0))\n",
    "# # clf.score(X_train, y_train)"
   ]
  },
  {
   "cell_type": "code",
   "execution_count": 17,
   "metadata": {},
   "outputs": [
    {
     "data": {
      "text/plain": [
       "{'estimator': GridSearchCV(cv=None, error_score='raise',\n",
       "        estimator=RVC(alpha=1e-06, beta=1e-06, beta_fixed=False, bias_used=True, coef0=0.0,\n",
       "   coef1=None, degree=3, kernel='rbf', n_iter=1, n_iter_posterior=50,\n",
       "   threshold_alpha=1000000000.0, tol=0.001, verbose=False),\n",
       "        fit_params=None, iid=True, n_jobs=1,\n",
       "        param_grid={'C': [1000.0, 10000.0, 100000.0], 'gamma': [0.001, 0.01, 0.1]},\n",
       "        pre_dispatch='2*n_jobs', refit=True, return_train_score='warn',\n",
       "        scoring=None, verbose=0),\n",
       " 'estimator__cv': None,\n",
       " 'estimator__error_score': 'raise',\n",
       " 'estimator__estimator': RVC(alpha=1e-06, beta=1e-06, beta_fixed=False, bias_used=True, coef0=0.0,\n",
       "   coef1=None, degree=3, kernel='rbf', n_iter=1, n_iter_posterior=50,\n",
       "   threshold_alpha=1000000000.0, tol=0.001, verbose=False),\n",
       " 'estimator__estimator__alpha': 1e-06,\n",
       " 'estimator__estimator__beta': 1e-06,\n",
       " 'estimator__estimator__beta_fixed': False,\n",
       " 'estimator__estimator__bias_used': True,\n",
       " 'estimator__estimator__coef0': 0.0,\n",
       " 'estimator__estimator__coef1': None,\n",
       " 'estimator__estimator__degree': 3,\n",
       " 'estimator__estimator__kernel': 'rbf',\n",
       " 'estimator__estimator__n_iter': 1,\n",
       " 'estimator__estimator__n_iter_posterior': 50,\n",
       " 'estimator__estimator__threshold_alpha': 1000000000.0,\n",
       " 'estimator__estimator__tol': 0.001,\n",
       " 'estimator__estimator__verbose': False,\n",
       " 'estimator__fit_params': None,\n",
       " 'estimator__iid': True,\n",
       " 'estimator__n_jobs': 1,\n",
       " 'estimator__param_grid': {'C': [1000.0, 10000.0, 100000.0],\n",
       "  'gamma': [0.001, 0.01, 0.1]},\n",
       " 'estimator__pre_dispatch': '2*n_jobs',\n",
       " 'estimator__refit': True,\n",
       " 'estimator__return_train_score': 'warn',\n",
       " 'estimator__scoring': None,\n",
       " 'estimator__verbose': 0,\n",
       " 'n_jobs': 1}"
      ]
     },
     "execution_count": 17,
     "metadata": {},
     "output_type": "execute_result"
    }
   ],
   "source": [
    "clf.get_params()"
   ]
  },
  {
   "cell_type": "code",
   "execution_count": 13,
   "metadata": {},
   "outputs": [
    {
     "name": "stdout",
     "output_type": "stream",
     "text": [
      "Predicting class on the test set\n",
      "done in 8.635s\n",
      "             precision    recall  f1-score   support\n",
      "\n",
      "          1       0.91      0.97      0.94      1000\n",
      "          2       0.89      0.86      0.88      1000\n",
      "          3       0.94      0.92      0.93      1000\n",
      "          4       0.86      0.86      0.86      1000\n",
      "          5       0.93      0.92      0.93      1000\n",
      "\n",
      "avg / total       0.91      0.91      0.91      5000\n",
      "\n",
      "[[967  12  16   1   4]\n",
      " [ 30 859   1 105   5]\n",
      " [ 39   0 923   6  32]\n",
      " [ 12  88  11 863  26]\n",
      " [ 14   3  32  31 920]]\n"
     ]
    }
   ],
   "source": [
    "from sklearn.metrics import classification_report\n",
    "from sklearn.metrics import confusion_matrix\n",
    "# #############################################################################\n",
    "# Quantitative evaluation of the model quality on the test set\n",
    "print(\"Predicting class on the test set\")\n",
    "t0 = time()\n",
    "y_pred = clf.predict(X_test)\n",
    "print(\"done in %0.3fs\" % (time() - t0))\n",
    "print(classification_report(y_test, y_pred))\n",
    "print(confusion_matrix(y_test, y_pred))"
   ]
  },
  {
   "cell_type": "markdown",
   "metadata": {},
   "source": [
    "## Gaussian Process"
   ]
  },
  {
   "cell_type": "code",
   "execution_count": 125,
   "metadata": {},
   "outputs": [
    {
     "name": "stdout",
     "output_type": "stream",
     "text": [
      "Fitting the classifier to the training set\n",
      "done in 11.471s\n"
     ]
    }
   ],
   "source": [
    "# from sklearn.gaussian_process import GaussianProcessRegressor\n",
    "from sklearn.gaussian_process import GaussianProcessClassifier\n",
    "from sklearn.gaussian_process.kernels import RBF\n",
    "from time import time\n",
    "# #############################################################################\n",
    "# Train a GPR classification model\n",
    "print(\"Fitting the classifier to the training set\")\n",
    "t0 = time()\n",
    "# clf = GridSearchCV(GaussianProcessRegressor(), param_grid)\n",
    "k_rbf = RBF(length_scale=1.0, length_scale_bounds=(1e-05, 100000.0))\n",
    "clf = OneVsOneClassifier(GaussianProcessClassifier(kernel = k_rbf))#kernel = kernel, alpha = 1e-10)#kernel=kernel) # Uses RBF as default\n",
    "clf.fit(X_train_1, y_train_1)\n",
    "print(\"done in %0.3fs\" % (time() - t0))\n",
    "# clf.score(X_train, y_train)"
   ]
  },
  {
   "cell_type": "code",
   "execution_count": 126,
   "metadata": {},
   "outputs": [
    {
     "name": "stdout",
     "output_type": "stream",
     "text": [
      "Predicting class on the test set\n",
      "done in 3.459s\n",
      "             precision    recall  f1-score   support\n",
      "\n",
      "          1       0.93      0.96      0.94      1000\n",
      "          2       0.92      0.87      0.90      1000\n",
      "          3       0.93      0.92      0.93      1000\n",
      "          4       0.86      0.88      0.87      1000\n",
      "          5       0.92      0.93      0.92      1000\n",
      "\n",
      "avg / total       0.91      0.91      0.91      5000\n",
      "\n",
      "[[956  12  17   3  12]\n",
      " [ 13 870   7 104   6]\n",
      " [ 29   4 920  12  35]\n",
      " [ 15  57  17 881  30]\n",
      " [ 17   0  24  29 930]]\n"
     ]
    }
   ],
   "source": [
    "from sklearn.metrics import classification_report\n",
    "from sklearn.metrics import confusion_matrix\n",
    "# #############################################################################\n",
    "# Quantitative evaluation of the model quality on the test set\n",
    "print(\"Predicting class on the test set\")\n",
    "t0 = time()\n",
    "y_pred = clf.predict(X_test)\n",
    "print(\"done in %0.3fs\" % (time() - t0))\n",
    "print(classification_report(y_test, y_pred))\n",
    "print(confusion_matrix(y_test, y_pred))"
   ]
  },
  {
   "cell_type": "markdown",
   "metadata": {},
   "source": [
    "## TrainMyClassifierParameters Function"
   ]
  },
  {
   "cell_type": "code",
   "execution_count": 137,
   "metadata": {},
   "outputs": [],
   "source": [
    "def TrainMyClassifierParameters(Algorithm):\n",
    "    if Algorithm == 'SVM':\n",
    "        Parameters = {\n",
    "            'C' : [1],\n",
    "            'gamma' : [1]\n",
    "        }\n",
    "    elif Algorithm == 'RVM':\n",
    "        Parameters = {\n",
    "            'alpha' : [1e-06],\n",
    "            'beta' : [1e-06]\n",
    "        }\n",
    "    elif Algorithm == 'GP':\n",
    "        Parameters = {\n",
    "            'length_scale' : [1.0]             \n",
    "        }\n",
    "    return Parameters, Algorithm"
   ]
  },
  {
   "cell_type": "markdown",
   "metadata": {},
   "source": [
    "## TrainMyClassifier Function"
   ]
  },
  {
   "cell_type": "code",
   "execution_count": 135,
   "metadata": {},
   "outputs": [],
   "source": [
    "# Not sure if this is the correct type of function we need\n",
    "def TrainMyClassifier(XEstimate, YEstimate, XValidate, TrainMyClassifierParameters):\n",
    "    from sklearn.svm import SVC\n",
    "    from skrvm import RVC\n",
    "    from sklearn.gaussian_process import GaussianProcessClassifier\n",
    "    from sklearn.multiclass import OneVsOneClassifier\n",
    "    from sklearn.model_selection import GridSearchCV\n",
    "    from sklearn.gaussian_process.kernels import RBF\n",
    "    from time import time\n",
    "    t0 = time()\n",
    "    # Paramaters should have this shape in order for it to work ==>  Parameters = {'C': [1e3, 1e4, 1e5], 'gamma': [0.001, 0.01, 0.1] }\n",
    "    if TrainMyClassifierParameters[1] == 'SVM':\n",
    "        # ################################################\n",
    "        # Train a SVM classification model\n",
    "        print(\"Fitting the classifier to the training set\")\n",
    "        param_grid = TrainMyClassifierParameters[0]\n",
    "        clf = OneVsOneClassifier(GridSearchCV(SVC(kernel='rbf', class_weight='balanced'), param_grid))\n",
    "        clf = clf.fit(XEstimate, YEstimate)\n",
    "        y_pred = clf.predict(XValidate)\n",
    "        scores = clf.score(XEstimate,YEstimate)\n",
    "        print(\"done in %0.3fs\" % (time() - t0))\n",
    "        return y_pred, scores\n",
    "    elif TrainMyClassifierParameters[1] == 'RVM':\n",
    "        # #############################################################################\n",
    "        # Train a RVM classification model\n",
    "        print(\"Fitting the classifier to the training set\")\n",
    "        t0 = time()\n",
    "        param_grid = TrainMyClassifierParameters[0]\n",
    "        clf = OneVsOneClassifier(GridSearchCV(RVC(kernel='rbf',n_iter=1), param_grid))\n",
    "        clf.fit(XEstimate, YEstimate)\n",
    "        y_pred = clf.predict(XValidate)\n",
    "        scores = clf.score(XEstimate,YEstimate)\n",
    "        print(\"done in %0.3fs\" % (time() - t0))\n",
    "        return y_pred, scores\n",
    "    elif TrainMyClassifierParameters[1] == 'GP':\n",
    "       # #############################################################################\n",
    "        # Train a GP classification model\n",
    "        print(\"Fitting the classifier to the training set\")\n",
    "        t0 = time()\n",
    "        param_grid = TrainMyClassifierParameters[0]['length_scale']\n",
    "        k_rbf = RBF(length_scale=param_grid)\n",
    "        clf = OneVsOneClassifier(GaussianProcessClassifier(kernel = k_rbf))\n",
    "        clf.fit(X_train_1, y_train_1)\n",
    "        y_pred = clf.predict(XValidate)\n",
    "        scores = clf.score(XEstimate,YEstimate)\n",
    "        print(\"done in %0.3fs\" % (time() - t0))\n",
    "        return y_pred, scores\n",
    "    else:\n",
    "        print(\"Incorrect type of algorithm, please use only one of the supported classifiers SVM, RVM, GP\")"
   ]
  },
  {
   "cell_type": "code",
   "execution_count": 136,
   "metadata": {},
   "outputs": [
    {
     "name": "stdout",
     "output_type": "stream",
     "text": [
      "Fitting the classifier to the training set\n",
      "done in 16.434s\n"
     ]
    },
    {
     "data": {
      "text/plain": [
       "(array([2, 1, 3, ..., 1, 4, 1]), 0.932)"
      ]
     },
     "execution_count": 136,
     "metadata": {},
     "output_type": "execute_result"
    }
   ],
   "source": [
    "TrainMyClassifier(X_train_1, y_train_1, X_test,TrainMyClassifierParameters('GP'))"
   ]
  },
  {
   "cell_type": "markdown",
   "metadata": {},
   "source": [
    "## MyConfusionMatrix Function "
   ]
  },
  {
   "cell_type": "code",
   "execution_count": null,
   "metadata": {},
   "outputs": [],
   "source": [
    "def MyConfusionMatrix(Y,ClassNames):\n",
    "    from sklearn.metrics import classification_report\n",
    "    from sklearn.metrics import confusion_matrix\n",
    "    c_r = classification_report(y_test, y_pred)\n",
    "    c_m = confusion_matrix(y_test, y_pred)"
   ]
  }
 ],
 "metadata": {
  "kernelspec": {
   "display_name": "Python 3",
   "language": "python",
   "name": "python3"
  },
  "language_info": {
   "codemirror_mode": {
    "name": "ipython",
    "version": 3
   },
   "file_extension": ".py",
   "mimetype": "text/x-python",
   "name": "python",
   "nbconvert_exporter": "python",
   "pygments_lexer": "ipython3",
   "version": "3.6.4"
  }
 },
 "nbformat": 4,
 "nbformat_minor": 2
}
